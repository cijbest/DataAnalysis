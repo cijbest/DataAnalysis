{
 "cells": [
  {
   "cell_type": "markdown",
   "metadata": {},
   "source": [
    "# Postgresql module 임포트하기\n",
    "psycopg2 모듈이 설치되어 있지 않다면 다음을 실행\n",
    "<blockquote>\n",
    "conda install -c anaconda psycopg2=2.6.2\n",
    "</blockquote>"
   ]
  },
  {
   "cell_type": "code",
   "execution_count": 16,
   "metadata": {
    "collapsed": false,
    "scrolled": true
   },
   "outputs": [],
   "source": [
    "import psycopg2"
   ]
  },
  {
   "cell_type": "markdown",
   "metadata": {},
   "source": [
    "# Redshift instance를 연결하기"
   ]
  },
  {
   "cell_type": "code",
   "execution_count": 17,
   "metadata": {
    "collapsed": true
   },
   "outputs": [],
   "source": [
    "conn = psycopg2.connect(\"dbname='prod' user='admin' host='13.124.7.179' password='Kookmin1' port='5439'\")\n",
    "conn.autocommit = True"
   ]
  },
  {
   "cell_type": "code",
   "execution_count": 18,
   "metadata": {
    "collapsed": false
   },
   "outputs": [],
   "source": [
    "cur = conn.cursor()"
   ]
  },
  {
   "cell_type": "markdown",
   "metadata": {},
   "source": [
    "# JOIN SQL을 실행해보기¶\n",
    "\n",
    "### INNER JOIN"
   ]
  },
  {
   "cell_type": "code",
   "execution_count": 19,
   "metadata": {
    "collapsed": false
   },
   "outputs": [],
   "source": [
    "sql = \"SELECT * FROM student s JOIN zipcode z ON s.zipcode_id = z.id;\" # inner join / student의 모든 zipcode가 zipcode 테이블에 있다는 가정하에만 동작하고 데이터없으면 결과값이 안 나옴\n",
    "cur.execute(sql)"
   ]
  },
  {
   "cell_type": "code",
   "execution_count": 20,
   "metadata": {
    "collapsed": false
   },
   "outputs": [
    {
     "name": "stdout",
     "output_type": "stream",
     "text": [
      "('keeyong', 'han', 1000, 1000, 'california', 'san jose')\n",
      "('misook', 'kim', 1000, 1000, 'california', 'san jose')\n",
      "('claire', 'han', 1001, 1001, 'california', 'santa clara')\n",
      "('chanwoo', 'park', 1001, 1001, 'california', 'santa clara')\n",
      "('benjamin', 'han', 1001, 1001, 'california', 'santa clara')\n",
      "('chanhee', 'park', 1001, 1001, 'california', 'santa clara')\n",
      "('claire', 'hough', 1002, 1002, 'california', 'palo alto')\n",
      "('james', 'hou', 1002, 1002, 'california', 'palo alto')\n"
     ]
    }
   ],
   "source": [
    "rows = cur.fetchall()\n",
    "for row in rows:\n",
    "    print(row)"
   ]
  },
  {
   "cell_type": "markdown",
   "metadata": {},
   "source": [
    "### FULL OUTER JOIN"
   ]
  },
  {
   "cell_type": "code",
   "execution_count": 21,
   "metadata": {
    "collapsed": false
   },
   "outputs": [
    {
     "name": "stdout",
     "output_type": "stream",
     "text": [
      "('keeyong', 'han', 1000, 1000, 'california', 'san jose')\n",
      "('misook', 'kim', 1000, 1000, 'california', 'san jose')\n",
      "('claire', 'hough', 1002, 1002, 'california', 'palo alto')\n",
      "('james', 'hou', 1002, 1002, 'california', 'palo alto')\n",
      "('claire', 'han', 1001, 1001, 'california', 'santa clara')\n",
      "('chanwoo', 'park', 1001, 1001, 'california', 'santa clara')\n",
      "('benjamin', 'han', 1001, 1001, 'california', 'santa clara')\n",
      "('chanhee', 'park', 1001, 1001, 'california', 'santa clara')\n",
      "('steve', 'jung', 1003, None, None, None)\n"
     ]
    }
   ],
   "source": [
    "sql = \"SELECT * FROM student s FULL OUTER JOIN zipcode z ON s.zipcode_id = z.id;\" # outer join / 무시가 되는 레코드들도 나타냄, 결과값이 없으면 None으로 표시.\n",
    "cur.execute(sql)\n",
    "rows = cur.fetchall()\n",
    "for row in rows:\n",
    "    print(row)"
   ]
  },
  {
   "cell_type": "markdown",
   "metadata": {},
   "source": [
    "## LEFT OUTER JOIN"
   ]
  },
  {
   "cell_type": "code",
   "execution_count": 24,
   "metadata": {
    "collapsed": false
   },
   "outputs": [
    {
     "name": "stdout",
     "output_type": "stream",
     "text": [
      "('keeyong', 'han', 1000, 1000, 'california', 'san jose')\n",
      "('misook', 'kim', 1000, 1000, 'california', 'san jose')\n",
      "('claire', 'han', 1001, 1001, 'california', 'santa clara')\n",
      "('chanwoo', 'park', 1001, 1001, 'california', 'santa clara')\n",
      "('benjamin', 'han', 1001, 1001, 'california', 'santa clara')\n",
      "('chanhee', 'park', 1001, 1001, 'california', 'santa clara')\n",
      "('claire', 'hough', 1002, 1002, 'california', 'palo alto')\n",
      "('james', 'hou', 1002, 1002, 'california', 'palo alto')\n",
      "('steve', 'jung', 1003, None, None, None)\n"
     ]
    }
   ],
   "source": [
    "sql = \"SELECT * FROM student s LEFT OUTER JOIN zipcode z ON s.zipcode_id = z.id;\" # left outer join / 왼쪽 테이블에 있는 정보가 없는 것도 출력\n",
    "cur.execute(sql)\n",
    "rows = cur.fetchall()\n",
    "for row in rows:\n",
    "    print(row)"
   ]
  },
  {
   "cell_type": "markdown",
   "metadata": {},
   "source": [
    "## RIGHT OUTER JOIN"
   ]
  },
  {
   "cell_type": "code",
   "execution_count": 26,
   "metadata": {
    "collapsed": false
   },
   "outputs": [
    {
     "name": "stdout",
     "output_type": "stream",
     "text": [
      "('claire', 'han', 1001, 1001, 'california', 'santa clara')\n",
      "('chanwoo', 'park', 1001, 1001, 'california', 'santa clara')\n",
      "('benjamin', 'han', 1001, 1001, 'california', 'santa clara')\n",
      "('chanhee', 'park', 1001, 1001, 'california', 'santa clara')\n",
      "('keeyong', 'han', 1000, 1000, 'california', 'san jose')\n",
      "('misook', 'kim', 1000, 1000, 'california', 'san jose')\n",
      "('claire', 'hough', 1002, 1002, 'california', 'palo alto')\n",
      "('james', 'hou', 1002, 1002, 'california', 'palo alto')\n",
      "(None, None, None, 1004, 'california', 'sunnyvale')\n"
     ]
    }
   ],
   "source": [
    "sql = \"SELECT * FROM student s RIGHT OUTER JOIN zipcode z ON s.zipcode_id = z.id;\" #  # right outer join / 오른쪽 테이블에 있는 정보가 없는 것도 출력\n",
    "cur.execute(sql)\n",
    "rows = cur.fetchall()\n",
    "for row in rows:\n",
    "    print(row)"
   ]
  },
  {
   "cell_type": "markdown",
   "metadata": {},
   "source": [
    "# 커넥션 연결하기"
   ]
  },
  {
   "cell_type": "code",
   "execution_count": 14,
   "metadata": {
    "collapsed": false
   },
   "outputs": [],
   "source": [
    "cur.close()\n",
    "conn.close()"
   ]
  },
  {
   "cell_type": "code",
   "execution_count": null,
   "metadata": {
    "collapsed": true
   },
   "outputs": [],
   "source": []
  }
 ],
 "metadata": {
  "kernelspec": {
   "display_name": "Python [conda root]",
   "language": "python",
   "name": "conda-root-py"
  },
  "language_info": {
   "codemirror_mode": {
    "name": "ipython",
    "version": 3
   },
   "file_extension": ".py",
   "mimetype": "text/x-python",
   "name": "python",
   "nbconvert_exporter": "python",
   "pygments_lexer": "ipython3",
   "version": "3.5.2"
  }
 },
 "nbformat": 4,
 "nbformat_minor": 1
}
