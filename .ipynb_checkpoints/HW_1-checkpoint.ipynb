{
 "cells": [
  {
   "cell_type": "code",
   "execution_count": 6,
   "metadata": {
    "collapsed": false
   },
   "outputs": [
    {
     "name": "stdout",
     "output_type": "stream",
     "text": [
      "Password:········\n"
     ]
    }
   ],
   "source": [
    "import pymysql\n",
    "import getpass\n",
    "pswd = getpass.getpass('Password:')"
   ]
  },
  {
   "cell_type": "code",
   "execution_count": 7,
   "metadata": {
    "collapsed": false
   },
   "outputs": [],
   "source": [
    " conn = pymysql.connect(host='cijbest.cbn0ky8z6lpv.ap-northeast-2.rds.amazonaws.com',\n",
    "                      user='cijbest', password=pswd,\n",
    "                      db ='kookmin_univ', charset='utf8')"
   ]
  },
  {
   "cell_type": "code",
   "execution_count": 8,
   "metadata": {
    "collapsed": true
   },
   "outputs": [],
   "source": [
    "curs = conn.cursor()"
   ]
  },
  {
   "cell_type": "code",
   "execution_count": 16,
   "metadata": {
    "collapsed": false
   },
   "outputs": [
    {
     "data": {
      "text/plain": [
       "0"
      ]
     },
     "execution_count": 16,
     "metadata": {},
     "output_type": "execute_result"
    }
   ],
   "source": [
    "sql = '''create table user_score (\n",
    "    id int AUTO_INCREMENT PRIMARY KEY, \n",
    "    first_name varchar(32),\n",
    "    last_name varchar(32),\n",
    "    score int,\n",
    "    created timestamp DEFAULT CURRENT_TIMESTAMP\n",
    ")''';\n",
    "curs.execute(sql)"
   ]
  },
  {
   "cell_type": "code",
   "execution_count": 19,
   "metadata": {
    "collapsed": false
   },
   "outputs": [
    {
     "data": {
      "text/plain": [
       "6"
      ]
     },
     "execution_count": 19,
     "metadata": {},
     "output_type": "execute_result"
    }
   ],
   "source": [
    "sql='''insert into user_score (first_name, last_name, score) values (\"jerry\", \"lee\", 90), \n",
    "(\"brian\", \"lee\", 100),\n",
    "(\"tim\", \"park\", 80),\n",
    "(\"kate\", \"park\", 30),\n",
    "(\"ann\", \"kim\", 60),\n",
    "(\"paul\", \"kim\", 20)'''\n",
    "curs.execute(sql)"
   ]
  },
  {
   "cell_type": "code",
   "execution_count": 20,
   "metadata": {
    "collapsed": false
   },
   "outputs": [
    {
     "name": "stdout",
     "output_type": "stream",
     "text": [
      "(('kim', Decimal('40.0000'), 20, 60), ('lee', Decimal('95.0000'), 90, 100), ('park', Decimal('55.0000'), 30, 80))\n"
     ]
    }
   ],
   "source": [
    "sql = 'select last_name, AVG(score), MIN(score), MAX(score) from user_score GROUP BY last_name';\n",
    "curs.execute(sql)\n",
    "print(curs.fetchall())"
   ]
  },
  {
   "cell_type": "code",
   "execution_count": 25,
   "metadata": {
    "collapsed": false
   },
   "outputs": [
    {
     "name": "stdout",
     "output_type": "stream",
     "text": [
      "(('lee', Decimal('95.0000'), 90, 100), ('park', Decimal('55.0000'), 30, 80), ('kim', Decimal('40.0000'), 20, 60))\n"
     ]
    }
   ],
   "source": [
    "sql = 'select last_name, AVG(score), MIN(score), MAX(score) from user_score GROUP BY 1 ORDER BY 2 DESC;';\n",
    "curs.execute(sql)\n",
    "print(curs.fetchall())"
   ]
  },
  {
   "cell_type": "code",
   "execution_count": 26,
   "metadata": {
    "collapsed": false
   },
   "outputs": [
    {
     "name": "stdout",
     "output_type": "stream",
     "text": [
      "(('lee',), ('lee',), ('park',), ('park',), ('kim',), ('kim',))\n"
     ]
    }
   ],
   "source": [
    "sql = 'select last_name from user_score';\n",
    "curs.execute(sql)\n",
    "print(curs.fetchall())"
   ]
  },
  {
   "cell_type": "code",
   "execution_count": 27,
   "metadata": {
    "collapsed": false
   },
   "outputs": [
    {
     "name": "stdout",
     "output_type": "stream",
     "text": [
      "(('lee',), ('park',), ('kim',))\n"
     ]
    }
   ],
   "source": [
    "sql = 'select distinct (last_name) from user_score';\n",
    "curs.execute(sql)\n",
    "print(curs.fetchall())"
   ]
  },
  {
   "cell_type": "code",
   "execution_count": null,
   "metadata": {
    "collapsed": true
   },
   "outputs": [],
   "source": []
  }
 ],
 "metadata": {
  "anaconda-cloud": {},
  "kernelspec": {
   "display_name": "Python [conda root]",
   "language": "python",
   "name": "conda-root-py"
  },
  "language_info": {
   "codemirror_mode": {
    "name": "ipython",
    "version": 3
   },
   "file_extension": ".py",
   "mimetype": "text/x-python",
   "name": "python",
   "nbconvert_exporter": "python",
   "pygments_lexer": "ipython3",
   "version": "3.5.2"
  }
 },
 "nbformat": 4,
 "nbformat_minor": 1
}
