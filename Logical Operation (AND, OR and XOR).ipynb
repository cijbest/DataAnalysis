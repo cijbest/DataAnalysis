{
 "cells": [
  {
   "cell_type": "markdown",
   "metadata": {},
   "source": [
    "# Linear regression으로 AND OR XOR 구현해보기\n",
    "\n",
    "linear regression은 근사값이 나온다."
   ]
  },
  {
   "cell_type": "markdown",
   "metadata": {},
   "source": [
    "### OR 구현"
   ]
  },
  {
   "cell_type": "code",
   "execution_count": 15,
   "metadata": {
    "collapsed": false
   },
   "outputs": [
    {
     "data": {
      "text/plain": [
       "LinearRegression(copy_X=True, fit_intercept=True, n_jobs=1, normalize=False)"
      ]
     },
     "execution_count": 15,
     "metadata": {},
     "output_type": "execute_result"
    }
   ],
   "source": [
    "from sklearn import linear_model # muchine learning 알고리즘\n",
    "x = [[0,0], [0,1], [1,0], [1,1]]\n",
    "y = [0, 1, 1, 1]\n",
    "regr = linear_model.LinearRegression() \n",
    "regr.fit(x, y)  # regr이 머신러닝 모델을 가지고 있게 됨"
   ]
  },
  {
   "cell_type": "code",
   "execution_count": 16,
   "metadata": {
    "collapsed": false
   },
   "outputs": [
    {
     "name": "stdout",
     "output_type": "stream",
     "text": [
      "[ 0.25]\n",
      "[ 0.75]\n",
      "[ 0.75]\n",
      "[ 1.25]\n"
     ]
    }
   ],
   "source": [
    "print(regr.predict([[0, 0]]))\n",
    "print(regr.predict([[0, 1]]))\n",
    "print(regr.predict([[1, 0]]))\n",
    "print(regr.predict([[1, 1]]))\n",
    "# 0 1 1 1 이 나와야 하지만 근사값으로 나옴(0.5보다 크면 1로 간주)"
   ]
  },
  {
   "cell_type": "markdown",
   "metadata": {},
   "source": [
    "### AND 구현"
   ]
  },
  {
   "cell_type": "code",
   "execution_count": 10,
   "metadata": {
    "collapsed": false
   },
   "outputs": [
    {
     "data": {
      "text/plain": [
       "LinearRegression(copy_X=True, fit_intercept=True, n_jobs=1, normalize=False)"
      ]
     },
     "execution_count": 10,
     "metadata": {},
     "output_type": "execute_result"
    }
   ],
   "source": [
    "from sklearn import linear_model # muchine learning 알고리즘\n",
    "x = [[0,0], [0,1], [1,0], [1,1]]\n",
    "y = [0, 0, 0, 1]\n",
    "regr = linear_model.LinearRegression() \n",
    "regr.fit(x, y)"
   ]
  },
  {
   "cell_type": "code",
   "execution_count": 11,
   "metadata": {
    "collapsed": false
   },
   "outputs": [
    {
     "name": "stdout",
     "output_type": "stream",
     "text": [
      "[-0.25]\n",
      "[ 0.25]\n",
      "[ 0.25]\n",
      "[ 0.75]\n"
     ]
    }
   ],
   "source": [
    "print(regr.predict([[0, 0]]))\n",
    "print(regr.predict([[0, 1]]))\n",
    "print(regr.predict([[1, 0]]))\n",
    "print(regr.predict([[1, 1]]))"
   ]
  },
  {
   "cell_type": "markdown",
   "metadata": {},
   "source": [
    "### XOR 구현"
   ]
  },
  {
   "cell_type": "code",
   "execution_count": 13,
   "metadata": {
    "collapsed": false
   },
   "outputs": [
    {
     "data": {
      "text/plain": [
       "LinearRegression(copy_X=True, fit_intercept=True, n_jobs=1, normalize=False)"
      ]
     },
     "execution_count": 13,
     "metadata": {},
     "output_type": "execute_result"
    }
   ],
   "source": [
    "from sklearn import linear_model # muchine learning 알고리즘\n",
    "x = [[0,0], [0,1], [1,0], [1,1]]\n",
    "y = [0, 1, 1, 0]\n",
    "regr = linear_model.LinearRegression() \n",
    "regr.fit(x, y)"
   ]
  },
  {
   "cell_type": "code",
   "execution_count": 14,
   "metadata": {
    "collapsed": false
   },
   "outputs": [
    {
     "name": "stdout",
     "output_type": "stream",
     "text": [
      "[ 0.5]\n",
      "[ 0.5]\n",
      "[ 0.5]\n",
      "[ 0.5]\n"
     ]
    }
   ],
   "source": [
    "print(regr.predict([[0, 0]]))\n",
    "print(regr.predict([[0, 1]]))\n",
    "print(regr.predict([[1, 0]]))\n",
    "print(regr.predict([[1, 1]]))"
   ]
  },
  {
   "cell_type": "markdown",
   "metadata": {},
   "source": [
    "## Decision Tree 구현\n",
    "\n",
    "예측 값이 정확하게 나온다."
   ]
  },
  {
   "cell_type": "markdown",
   "metadata": {},
   "source": [
    "### OR 구현"
   ]
  },
  {
   "cell_type": "code",
   "execution_count": 21,
   "metadata": {
    "collapsed": false
   },
   "outputs": [
    {
     "name": "stdout",
     "output_type": "stream",
     "text": [
      "[0]\n",
      "[1]\n",
      "[1]\n",
      "[1]\n"
     ]
    }
   ],
   "source": [
    "from sklearn import tree\n",
    "x = [[0,0], [0,1], [1,0], [1,1]]\n",
    "y = [0, 1, 1, 1]\n",
    "clf = tree.DecisionTreeClassifier() \n",
    "clf = clf.fit(x, y)\n",
    "\n",
    "print(clf.predict([[0, 0]]))\n",
    "print(clf.predict([[0, 1]]))\n",
    "print(clf.predict([[1, 0]]))\n",
    "print(clf.predict([[1, 1]]))"
   ]
  },
  {
   "cell_type": "markdown",
   "metadata": {},
   "source": [
    "### AND 구현"
   ]
  },
  {
   "cell_type": "code",
   "execution_count": 23,
   "metadata": {
    "collapsed": false
   },
   "outputs": [
    {
     "name": "stdout",
     "output_type": "stream",
     "text": [
      "[0]\n",
      "[0]\n",
      "[0]\n",
      "[1]\n"
     ]
    }
   ],
   "source": [
    "from sklearn import tree\n",
    "x = [[0,0], [0,1], [1,0], [1,1]]\n",
    "y = [0, 0, 0, 1]\n",
    "clf = tree.DecisionTreeClassifier() \n",
    "clf = clf.fit(x, y)\n",
    "\n",
    "print(clf.predict([[0, 0]]))\n",
    "print(clf.predict([[0, 1]]))\n",
    "print(clf.predict([[1, 0]]))\n",
    "print(clf.predict([[1, 1]]))"
   ]
  },
  {
   "cell_type": "markdown",
   "metadata": {},
   "source": [
    "### XOR 구현"
   ]
  },
  {
   "cell_type": "code",
   "execution_count": 22,
   "metadata": {
    "collapsed": false
   },
   "outputs": [
    {
     "name": "stdout",
     "output_type": "stream",
     "text": [
      "[0]\n",
      "[0]\n",
      "[0]\n",
      "[0]\n"
     ]
    }
   ],
   "source": [
    "from sklearn import tree\n",
    "x = [[0,0], [0,1], [1,0], [1,1]]\n",
    "y = [0, 0, 0, 0]\n",
    "clf = tree.DecisionTreeClassifier() \n",
    "clf = clf.fit(x, y)\n",
    "\n",
    "print(clf.predict([[0, 0]]))\n",
    "print(clf.predict([[0, 1]]))\n",
    "print(clf.predict([[1, 0]]))\n",
    "print(clf.predict([[1, 1]]))"
   ]
  },
  {
   "cell_type": "code",
   "execution_count": null,
   "metadata": {
    "collapsed": true
   },
   "outputs": [],
   "source": []
  }
 ],
 "metadata": {
  "kernelspec": {
   "display_name": "Python [conda root]",
   "language": "python",
   "name": "conda-root-py"
  },
  "language_info": {
   "codemirror_mode": {
    "name": "ipython",
    "version": 3
   },
   "file_extension": ".py",
   "mimetype": "text/x-python",
   "name": "python",
   "nbconvert_exporter": "python",
   "pygments_lexer": "ipython3",
   "version": "3.5.2"
  }
 },
 "nbformat": 4,
 "nbformat_minor": 1
}
