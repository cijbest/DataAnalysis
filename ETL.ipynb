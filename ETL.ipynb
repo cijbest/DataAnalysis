{
 "cells": [
  {
   "cell_type": "markdown",
   "metadata": {},
   "source": [
    "# 간단한 ETL 작성해보기\n",
    "\n",
    "laptop에 있는 zipcode 텍스트파일(tab separated)을 읽어서 zipcode 테이블에 추가한다"
   ]
  },
  {
   "cell_type": "code",
   "execution_count": 11,
   "metadata": {
    "collapsed": true
   },
   "outputs": [],
   "source": [
    "import sys\n",
    "import psycopg2\n",
    "\n",
    "raw_rows = []  # 텍스트파일에 있는 정보 저장\n",
    "records = []  # tab기준으로 split해서 id, statd, city로 분리해 저장"
   ]
  },
  {
   "cell_type": "code",
   "execution_count": null,
   "metadata": {
    "collapsed": true
   },
   "outputs": [],
   "source": [
    "def extract(filename):\n",
    "    with open(filename) as f:\n",
    "        for line in f:\n",
    "            raw_rows.append(line.rstrip())"
   ]
  },
  {
   "cell_type": "code",
   "execution_count": null,
   "metadata": {
    "collapsed": true
   },
   "outputs": [],
   "source": [
    "def transform():\n",
    "    '''\n",
    "    '''\n",
    "    for row in raw_rows:\n",
    "        fields = row.split(\"\\t\")\n",
    "        records.append({ 'id': fields[0], 'state': fields[1], 'city': fields[2] })"
   ]
  },
  {
   "cell_type": "code",
   "execution_count": 12,
   "metadata": {
    "collapsed": true
   },
   "outputs": [],
   "source": [
    "def load():\n",
    "    conn = psycopg2.connect(\"dbname='prod' user='admin' host='13.124.7.179' password='Kookmin1' port='5439'\")\n",
    "    conn.autocommit = True\n",
    "    cur = conn.cursor()\n",
    "    for record in records:\n",
    "        sql = \"INSERT INTO zipcode VALUES({id}, '{state}', '{city}')\".format(\n",
    "            id=record['id'],\n",
    "            state=record['state'],\n",
    "            city=record['city'])\n",
    "        print(sql)\n",
    "        cur.execute(sql)\n",
    "    conn.commit()\n",
    "    cur.close()\n",
    "    conn.close()"
   ]
  },
  {
   "cell_type": "code",
   "execution_count": 13,
   "metadata": {
    "collapsed": false
   },
   "outputs": [
    {
     "name": "stdout",
     "output_type": "stream",
     "text": [
      "INSERT INTO zipcode VALUES(100, 'CO', 'denver')\n",
      "INSERT INTO zipcode VALUES(102, 'WA', 'seattle')\n"
     ]
    }
   ],
   "source": [
    "# MAIN\n",
    "extract('sample_zipcode.txt')\n",
    "transform()\n",
    "load()"
   ]
  },
  {
   "cell_type": "code",
   "execution_count": 17,
   "metadata": {
    "collapsed": false
   },
   "outputs": [
    {
     "name": "stdout",
     "output_type": "stream",
     "text": [
      "['100\\tCO\\tdenver', '102\\tWA\\tseattle']\n",
      "[{'id': '100', 'state': 'CO', 'city': 'denver'}, {'id': '102', 'state': 'WA', 'city': 'seattle'}]\n"
     ]
    }
   ],
   "source": [
    "print(raw_rows)\n",
    "print(records)"
   ]
  },
  {
   "cell_type": "code",
   "execution_count": null,
   "metadata": {
    "collapsed": true
   },
   "outputs": [],
   "source": []
  }
 ],
 "metadata": {
  "anaconda-cloud": {},
  "kernelspec": {
   "display_name": "Python [conda root]",
   "language": "python",
   "name": "conda-root-py"
  },
  "language_info": {
   "codemirror_mode": {
    "name": "ipython",
    "version": 3
   },
   "file_extension": ".py",
   "mimetype": "text/x-python",
   "name": "python",
   "nbconvert_exporter": "python",
   "pygments_lexer": "ipython3",
   "version": "3.5.2"
  }
 },
 "nbformat": 4,
 "nbformat_minor": 1
}
